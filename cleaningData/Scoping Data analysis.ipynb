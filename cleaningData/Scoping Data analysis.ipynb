{
 "cells": [
  {
   "cell_type": "markdown",
   "metadata": {},
   "source": [
    "Some questions to think about when analyzing human exome, cancer, single cell data\n",
    "    What...\n",
    "        is the purpose of the analysis?\n",
    "            What is the ideal result of the analysis?\n",
    "        are the implications of these findings?\n",
    "            What can be done with this information?\n",
    "        statistical analysis tools needed?\n",
    "            Suport vector machines? Baysein recommendation systems?\n",
    "            Boosted decision trees? Deep neural networks?\n",
    "        data is available?\n",
    "            How is the data formatted?\n",
    "            What other data can support analysis?\n",
    "    How...\n",
    "        was this data obtained (method of primary analysis)?\n",
    "            what bias/error can result from this data type?\n",
    "        was data used in analysis?\n",
    "            What data is influencing/supporting conclusion?\n",
    "        will this data be used?\n",
    "            What is the a plan for structuring the data?\n",
    "        are the project targets biased?\n",
    "            Is biased by search or by findings?        \n",
    "    Why...\n",
    "        was the chosen analysis method used?\n",
    "        \n",
    "    "
   ]
  }
 ],
 "metadata": {
  "kernelspec": {
   "display_name": "Python [default]",
   "language": "python",
   "name": "python3"
  },
  "language_info": {
   "codemirror_mode": {
    "name": "ipython",
    "version": 3
   },
   "file_extension": ".py",
   "mimetype": "text/x-python",
   "name": "python",
   "nbconvert_exporter": "python",
   "pygments_lexer": "ipython3",
   "version": "3.6.6"
  }
 },
 "nbformat": 4,
 "nbformat_minor": 2
}
